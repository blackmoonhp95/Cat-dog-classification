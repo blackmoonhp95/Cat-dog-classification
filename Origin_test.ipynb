{
 "cells": [
  {
   "cell_type": "code",
   "execution_count": 50,
   "id": "passive-extra",
   "metadata": {},
   "outputs": [],
   "source": [
    "import numpy as np\n",
    "import matplotlib.pyplot as plt\n",
    "import pandas as pd\n",
    "import cv2 as cv\n",
    "import random\n",
    "import os\n",
    "from shutil import copyfile\n",
    "import tensorflow as tf\n",
    "from tensorflow.keras.layers import Conv2D, MaxPooling2D, Flatten, Dense, BatchNormalization, Dropout\n",
    "from tensorflow.keras.models import Sequential\n",
    "from tensorflow.keras.preprocessing import image\n",
    "from tensorflow.keras.preprocessing.image import ImageDataGenerator"
   ]
  },
  {
   "cell_type": "code",
   "execution_count": 2,
   "id": "vocal-spider",
   "metadata": {},
   "outputs": [],
   "source": [
    "def visualize_random(folder):\n",
    "    plt.figure(figsize=(20,10))\n",
    "    images = os.listdir(folder)\n",
    "    for i in range(10):\n",
    "        img = random.choice([x for x in images])\n",
    "        fig = plt.subplot(5, 5, i + 1)\n",
    "        fig.axis('off')\n",
    "        img = mpimg.imread(os.path.join(folder, img))\n",
    "        fig.imshow(img)"
   ]
  },
  {
   "cell_type": "code",
   "execution_count": 3,
   "id": "vocational-population",
   "metadata": {},
   "outputs": [],
   "source": [
    "try:\n",
    "    os.mkdir('total')\n",
    "    for dir in ['training', 'validation']:\n",
    "        path = os.path.join('total', dir)\n",
    "        os.mkdir(path)\n",
    "        for dir in ['cat', 'dog']:\n",
    "            n_path = os.path.join(path, dir)\n",
    "            os.mkdir(n_path)\n",
    "except Exception:\n",
    "    print('Existed!')"
   ]
  },
  {
   "cell_type": "code",
   "execution_count": 4,
   "id": "selected-future",
   "metadata": {},
   "outputs": [],
   "source": [
    "cats = [x for x in os.listdir('train') if 'cat' in x]\n",
    "dogs = [x for x in os.listdir('train') if 'dog' in x]\n",
    "cat_test = random.sample(cats, int(0.2 * len(cats)))\n",
    "dog_test = random.sample(dogs, int(0.2 * len(dogs)))"
   ]
  },
  {
   "cell_type": "code",
   "execution_count": 5,
   "id": "political-italian",
   "metadata": {},
   "outputs": [],
   "source": [
    "for img in os.listdir('train'):\n",
    "    src_img = os.path.join('train', img)\n",
    "    if 'cat' in img:\n",
    "        if img in cat_test:\n",
    "            dst_img = os.path.join('total/validation/cat', img)\n",
    "        else:\n",
    "            dst_img = os.path.join('total/training/cat', img)\n",
    "    elif 'dog' in img:\n",
    "        if img in dog_test:\n",
    "            dst_img = os.path.join('total/validation/dog', img)\n",
    "        else:\n",
    "            dst_img = os.path.join('total/training/dog', img)\n",
    "    copyfile(src_img, dst_img)"
   ]
  },
  {
   "cell_type": "code",
   "execution_count": 6,
   "id": "featured-ghost",
   "metadata": {},
   "outputs": [
    {
     "name": "stdout",
     "output_type": "stream",
     "text": [
      "Found 20000 images belonging to 2 classes.\n",
      "Found 5000 images belonging to 2 classes.\n"
     ]
    }
   ],
   "source": [
    "gen_train = ImageDataGenerator(rescale=1/255,\n",
    "                               rotation_range=40, \n",
    "                               width_shift_range=0.2,\n",
    "                               height_shift_range=0.2,\n",
    "                               shear_range=0.2,\n",
    "                               zoom_range=0.2,\n",
    "                               horizontal_flip=True, \n",
    "                               fill_mode='nearest')\n",
    "gen_valid = ImageDataGenerator(rescale=1/255)\n",
    "\n",
    "img_train = gen_train.flow_from_directory('total/training', target_size=(150, 150), batch_size=32, class_mode='binary')\n",
    "img_valid = gen_valid.flow_from_directory('total/validation', target_size=(150, 150), batch_size=32, class_mode='binary')"
   ]
  },
  {
   "cell_type": "code",
   "execution_count": 7,
   "id": "smaller-creation",
   "metadata": {},
   "outputs": [
    {
     "name": "stdout",
     "output_type": "stream",
     "text": [
      "WARNING:tensorflow:There are non-GPU devices in `tf.distribute.Strategy`, not using nccl allreduce.\n",
      "INFO:tensorflow:Using MirroredStrategy with devices ('/job:localhost/replica:0/task:0/device:CPU:0',)\n",
      "Model: \"sequential\"\n",
      "_________________________________________________________________\n",
      "Layer (type)                 Output Shape              Param #   \n",
      "=================================================================\n",
      "conv2d (Conv2D)              (None, 148, 148, 32)      896       \n",
      "_________________________________________________________________\n",
      "max_pooling2d (MaxPooling2D) (None, 74, 74, 32)        0         \n",
      "_________________________________________________________________\n",
      "conv2d_1 (Conv2D)            (None, 72, 72, 64)        18496     \n",
      "_________________________________________________________________\n",
      "max_pooling2d_1 (MaxPooling2 (None, 36, 36, 64)        0         \n",
      "_________________________________________________________________\n",
      "conv2d_2 (Conv2D)            (None, 34, 34, 128)       73856     \n",
      "_________________________________________________________________\n",
      "max_pooling2d_2 (MaxPooling2 (None, 17, 17, 128)       0         \n",
      "_________________________________________________________________\n",
      "flatten (Flatten)            (None, 36992)             0         \n",
      "_________________________________________________________________\n",
      "dense (Dense)                (None, 128)               4735104   \n",
      "_________________________________________________________________\n",
      "dense_1 (Dense)              (None, 1)                 129       \n",
      "=================================================================\n",
      "Total params: 4,828,481\n",
      "Trainable params: 4,828,481\n",
      "Non-trainable params: 0\n",
      "_________________________________________________________________\n"
     ]
    }
   ],
   "source": [
    "strategy = tf.distribute.MirroredStrategy()\n",
    "\n",
    "with strategy.scope():\n",
    "    model = Sequential([Conv2D(32, (3,3), activation='relu', input_shape=(150, 150, 3)),\n",
    "                        MaxPooling2D(2, 2),\n",
    "                        Conv2D(64, (3,3), activation='relu'),\n",
    "                        MaxPooling2D(2,2),\n",
    "                        Conv2D(128, (3,3), activation='relu'),\n",
    "                        MaxPooling2D(2,2),\n",
    "                        Flatten(),\n",
    "                        Dense(128, activation='relu'),\n",
    "                        Dense(1, activation='sigmoid')])\n",
    "    model.compile(optimizer='adam', loss='binary_crossentropy', metrics=['accuracy'])\n",
    "            \n",
    "model.summary()"
   ]
  },
  {
   "cell_type": "code",
   "execution_count": 8,
   "id": "photographic-expansion",
   "metadata": {},
   "outputs": [
    {
     "name": "stdout",
     "output_type": "stream",
     "text": [
      "Epoch 1/20\n",
      "625/625 [==============================] - 214s 338ms/step - loss: 0.7126 - accuracy: 0.5561 - val_loss: 0.6113 - val_accuracy: 0.6760\n",
      "Epoch 2/20\n",
      "625/625 [==============================] - 203s 325ms/step - loss: 0.6284 - accuracy: 0.6461 - val_loss: 0.5694 - val_accuracy: 0.7362\n",
      "Epoch 3/20\n",
      "625/625 [==============================] - 211s 338ms/step - loss: 0.5731 - accuracy: 0.7076 - val_loss: 0.5154 - val_accuracy: 0.7534\n",
      "Epoch 4/20\n",
      "625/625 [==============================] - 210s 336ms/step - loss: 0.5366 - accuracy: 0.7298 - val_loss: 0.4455 - val_accuracy: 0.7986\n",
      "Epoch 5/20\n",
      "625/625 [==============================] - 223s 357ms/step - loss: 0.5155 - accuracy: 0.7444 - val_loss: 0.4943 - val_accuracy: 0.7736\n",
      "Epoch 6/20\n",
      "625/625 [==============================] - 212s 340ms/step - loss: 0.5015 - accuracy: 0.7553 - val_loss: 0.4197 - val_accuracy: 0.8080\n",
      "Epoch 7/20\n",
      "625/625 [==============================] - 257s 411ms/step - loss: 0.4796 - accuracy: 0.7638 - val_loss: 0.4032 - val_accuracy: 0.8236\n",
      "Epoch 8/20\n",
      "625/625 [==============================] - 270s 433ms/step - loss: 0.4614 - accuracy: 0.7792 - val_loss: 0.3967 - val_accuracy: 0.8226\n",
      "Epoch 9/20\n",
      "625/625 [==============================] - 270s 431ms/step - loss: 0.4516 - accuracy: 0.7835 - val_loss: 0.3875 - val_accuracy: 0.8316\n",
      "Epoch 10/20\n",
      "625/625 [==============================] - 271s 434ms/step - loss: 0.4391 - accuracy: 0.7977 - val_loss: 0.3455 - val_accuracy: 0.8538\n",
      "Epoch 11/20\n",
      "625/625 [==============================] - 272s 435ms/step - loss: 0.4095 - accuracy: 0.8106 - val_loss: 0.3626 - val_accuracy: 0.8416\n",
      "Epoch 12/20\n",
      "625/625 [==============================] - 259s 414ms/step - loss: 0.4042 - accuracy: 0.8194 - val_loss: 0.3587 - val_accuracy: 0.8524\n",
      "Epoch 13/20\n",
      "625/625 [==============================] - 221s 354ms/step - loss: 0.3900 - accuracy: 0.8257 - val_loss: 0.3243 - val_accuracy: 0.8604\n",
      "Epoch 14/20\n",
      "625/625 [==============================] - 234s 373ms/step - loss: 0.3779 - accuracy: 0.8333 - val_loss: 0.3330 - val_accuracy: 0.8568\n",
      "Epoch 15/20\n",
      "625/625 [==============================] - 229s 366ms/step - loss: 0.3704 - accuracy: 0.8355 - val_loss: 0.3059 - val_accuracy: 0.8696\n",
      "Epoch 16/20\n",
      "625/625 [==============================] - 247s 395ms/step - loss: 0.3518 - accuracy: 0.8436 - val_loss: 0.3181 - val_accuracy: 0.8642\n",
      "Epoch 17/20\n",
      "625/625 [==============================] - 266s 426ms/step - loss: 0.3499 - accuracy: 0.8489 - val_loss: 0.3393 - val_accuracy: 0.8510\n",
      "Epoch 18/20\n",
      "625/625 [==============================] - 270s 432ms/step - loss: 0.3423 - accuracy: 0.8446 - val_loss: 0.2981 - val_accuracy: 0.8794\n",
      "Epoch 19/20\n",
      "625/625 [==============================] - 273s 437ms/step - loss: 0.3299 - accuracy: 0.8557 - val_loss: 0.3061 - val_accuracy: 0.8732\n",
      "Epoch 20/20\n",
      "625/625 [==============================] - 275s 441ms/step - loss: 0.3351 - accuracy: 0.8535 - val_loss: 0.2850 - val_accuracy: 0.8804\n"
     ]
    }
   ],
   "source": [
    "history = model.fit(img_train, \n",
    "                    epochs=20,\n",
    "                    validation_data=img_valid)"
   ]
  },
  {
   "cell_type": "code",
   "execution_count": 40,
   "id": "excessive-dressing",
   "metadata": {
    "tags": []
   },
   "outputs": [],
   "source": [
    "df_hist = pd.DataFrame(history.history)\n",
    "df_hist.to_csv('Origin.csv')"
   ]
  },
  {
   "cell_type": "code",
   "execution_count": 12,
   "id": "artificial-broad",
   "metadata": {},
   "outputs": [
    {
     "name": "stdout",
     "output_type": "stream",
     "text": [
      "INFO:tensorflow:Assets written to: Origin\\assets\n"
     ]
    }
   ],
   "source": [
    "model.save('Origin')"
   ]
  },
  {
   "cell_type": "code",
   "execution_count": 37,
   "id": "dimensional-portland",
   "metadata": {
    "tags": []
   },
   "outputs": [
    {
     "data": {
      "image/png": "[encoded data removed]",
      "text/plain": [
       "<Figure size 432x288 with 1 Axes>"
      ]
     },
     "metadata": {
      "needs_background": "light"
     },
     "output_type": "display_data"
    }
   ],
   "source": [
    "x = np.arange(1, 21)\n",
    "plt.ylim(0.5,0.9)\n",
    "plt.title('Accuracy')\n",
    "plt.plot(x, df_hist.accuracy, label='Accuracy')\n",
    "plt.plot(x, df_hist.val_accuracy, label='Validation accuaracy')\n",
    "plt.legend()\n",
    "plt.show()"
   ]
  },
  {
   "cell_type": "code",
   "execution_count": 38,
   "id": "eligible-photographer",
   "metadata": {},
   "outputs": [
    {
     "data": {
      "image/png": "[encoded data removed]",
      "text/plain": [
       "<Figure size 432x288 with 1 Axes>"
      ]
     },
     "metadata": {
      "needs_background": "light"
     },
     "output_type": "display_data"
    }
   ],
   "source": [
    "plt.ylim(0.2,0.9)\n",
    "plt.title('Loss')\n",
    "plt.plot(x, df_hist.loss, label='Loss')\n",
    "plt.plot(x, df_hist.val_loss, label='Validation loss')\n",
    "plt.legend()\n",
    "plt.show()"
   ]
  },
  {
   "cell_type": "code",
   "execution_count": 49,
   "id": "altered-wisconsin",
   "metadata": {},
   "outputs": [],
   "source": [
    "def convert_one_img(img_folder, img):\n",
    "    img_width, img_height = 150, 150\n",
    "    img = os.path.join(img_folder, img)\n",
    "    img = image.load_img(img, target_size=(img_width, img_height))\n",
    "    img = image.img_to_array(img)\n",
    "    img = np.expand_dims(img, axis=0)\n",
    "    img /= 255\n",
    "    return img"
   ]
  },
  {
   "cell_type": "code",
   "execution_count": 52,
   "id": "ancient-soccer",
   "metadata": {},
   "outputs": [],
   "source": [
    "cat_images = os.listdir('total/validation/cat')\n",
    "cat_result = []\n",
    "for i, img in enumerate(cat_images):\n",
    "    pic = convert_one_img('total/validation/cat', os.listdir('total/validation/cat')[i])\n",
    "    label = 'Cat' if (model.predict(pic) < 0.5).astype('int') else 'Dog'\n",
    "    cat_result.append(label)"
   ]
  },
  {
   "cell_type": "code",
   "execution_count": 64,
   "id": "unlikely-tolerance",
   "metadata": {},
   "outputs": [],
   "source": [
    "cat_images = os.listdir('total/validation/cat')\n",
    "cat_value = []\n",
    "for i, img in enumerate(cat_images):\n",
    "    pic = convert_one_img('total/validation/cat', os.listdir('total/validation/cat')[i])\n",
    "    cat_value.append(model.predict(pic))"
   ]
  },
  {
   "cell_type": "code",
   "execution_count": 56,
   "id": "oriental-assumption",
   "metadata": {},
   "outputs": [],
   "source": [
    "dog_images = os.listdir('total/validation/dog')\n",
    "dog_result = []\n",
    "for i, img in enumerate(dog_images):\n",
    "    pic = convert_one_img('total/validation/dog', os.listdir('total/validation/dog')[i])\n",
    "    label = 'Cat' if (model.predict(pic) < 0.5).astype('int') else 'Dog'\n",
    "    dog_result.append(label)"
   ]
  },
  {
   "cell_type": "code",
   "execution_count": 65,
   "id": "latin-idaho",
   "metadata": {},
   "outputs": [],
   "source": [
    "dog_images = os.listdir('total/validation/dog')\n",
    "dog_value = []\n",
    "for i, img in enumerate(dog_images):\n",
    "    pic = convert_one_img('total/validation/dog', os.listdir('total/validation/dog')[i])\n",
    "    dog_value.append(model.predict(pic))"
   ]
  },
  {
   "cell_type": "code",
   "execution_count": 55,
   "id": "parliamentary-freight",
   "metadata": {},
   "outputs": [
    {
     "name": "stdout",
     "output_type": "stream",
     "text": [
      "2060 440\n"
     ]
    }
   ],
   "source": [
    "print(cat_result.count('Cat'), cat_result.count('Dog'))"
   ]
  },
  {
   "cell_type": "code",
   "execution_count": 58,
   "id": "peripheral-party",
   "metadata": {},
   "outputs": [
    {
     "name": "stdout",
     "output_type": "stream",
     "text": [
      "158 2342\n"
     ]
    }
   ],
   "source": [
    "print(dog_result.count('Cat'), dog_result.count('Dog'))"
   ]
  },
  {
   "cell_type": "code",
   "execution_count": 86,
   "id": "compact-singapore",
   "metadata": {},
   "outputs": [
    {
     "data": {
      "text/plain": [
       "<AxesSubplot:>"
      ]
     },
     "execution_count": 86,
     "metadata": {},
     "output_type": "execute_result"
    },
    {
     "data": {
      "image/png": "[encoded data removed]",
      "text/plain": [
       "<Figure size 432x288 with 2 Axes>"
      ]
     },
     "metadata": {
      "needs_background": "light"
     },
     "output_type": "display_data"
    }
   ],
   "source": [
    "con_matrix = np.asarray([[2060, 440], [158, 2342]])/2500\n",
    "sns.heatmap(con_matrix, annot=True, xticklabels=['Cat', 'Dog'], yticklabels=['Cat', 'Dog'], cmap='Blues')"
   ]
  },
  {
   "cell_type": "code",
   "execution_count": 75,
   "id": "duplicate-shepherd",
   "metadata": {},
   "outputs": [
    {
     "data": {
      "text/plain": [
       "<matplotlib.legend.Legend at 0x29716c6f5b0>"
      ]
     },
     "execution_count": 75,
     "metadata": {},
     "output_type": "execute_result"
    },
    {
     "data": {
      "image/png": "[encoded data removed]",
      "text/plain": [
       "<Figure size 1080x720 with 1 Axes>"
      ]
     },
     "metadata": {
      "needs_background": "light"
     },
     "output_type": "display_data"
    }
   ],
   "source": [
    "import warnings\n",
    "import seaborn as sns\n",
    "warnings.filterwarnings('ignore')\n",
    "\n",
    "plt.figure(figsize=(15,10))\n",
    "sns.distplot(cat_value, label='Cat')\n",
    "sns.distplot(dog_value, label='Dog')\n",
    "plt.legend()"
   ]
  },
  {
   "cell_type": "code",
   "execution_count": 92,
   "id": "knowing-guess",
   "metadata": {
    "tags": []
   },
   "outputs": [],
   "source": [
    "cat_images = os.listdir('total/validation/cat')\n",
    "cat_result_1 = []\n",
    "for i, img in enumerate(cat_images):\n",
    "    pic = convert_one_img('total/validation/cat', os.listdir('total/validation/cat')[i])\n",
    "    label = 'Cat' if (model.predict(pic) < 0.67).astype('int') else 'Dog'\n",
    "    cat_result_1.append(label)"
   ]
  },
  {
   "cell_type": "code",
   "execution_count": 93,
   "id": "ceramic-coordinate",
   "metadata": {
    "tags": []
   },
   "outputs": [],
   "source": [
    "dog_images = os.listdir('total/validation/dog')\n",
    "dog_result_1 = []\n",
    "for i, img in enumerate(dog_images):\n",
    "    pic = convert_one_img('total/validation/dog', os.listdir('total/validation/dog')[i])\n",
    "    label = 'Cat' if (model.predict(pic) < 0.67).astype('int') else 'Dog'\n",
    "    dog_result_1.append(label)"
   ]
  },
  {
   "cell_type": "code",
   "execution_count": 94,
   "id": "standard-christmas",
   "metadata": {},
   "outputs": [
    {
     "name": "stdout",
     "output_type": "stream",
     "text": [
      "2234 266\n",
      "271 2229\n"
     ]
    }
   ],
   "source": [
    "print(cat_result_1.count('Cat'), cat_result_1.count('Dog'))\n",
    "print(dog_result_1.count('Cat'), dog_result_1.count('Dog'))"
   ]
  },
  {
   "cell_type": "code",
   "execution_count": 95,
   "id": "adapted-champagne",
   "metadata": {},
   "outputs": [
    {
     "data": {
      "text/plain": [
       "<AxesSubplot:>"
      ]
     },
     "execution_count": 95,
     "metadata": {},
     "output_type": "execute_result"
    },
    {
     "data": {
      "image/png": "[encoded data removed]",
      "text/plain": [
       "<Figure size 432x288 with 2 Axes>"
      ]
     },
     "metadata": {
      "needs_background": "light"
     },
     "output_type": "display_data"
    }
   ],
   "source": [
    "con_matrix = np.asarray([[2234, 266], [271, 2229]])/2500\n",
    "sns.heatmap(con_matrix, annot=True, xticklabels=['Cat', 'Dog'], yticklabels=['Cat', 'Dog'], cmap='Blues')"
   ]
  }
 ],
 "metadata": {
  "kernelspec": {
   "display_name": "Python 3",
   "language": "python",
   "name": "python3"
  },
  "language_info": {
   "codemirror_mode": {
    "name": "ipython",
    "version": 3
   },
   "file_extension": ".py",
   "mimetype": "text/x-python",
   "name": "python",
   "nbconvert_exporter": "python",
   "pygments_lexer": "ipython3",
   "version": "3.8.8"
  }
 },
 "nbformat": 4,
 "nbformat_minor": 5
}
