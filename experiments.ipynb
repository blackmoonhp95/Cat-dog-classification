{
 "cells": [
  {
   "cell_type": "code",
   "execution_count": 1,
   "id": "local-pocket",
   "metadata": {},
   "outputs": [],
   "source": [
    "import numpy as np\n",
    "import matplotlib.pyplot as plt\n",
    "import pandas as pd\n",
    "import cv2 as cv\n",
    "import random\n",
    "import os\n",
    "from shutil import copyfile\n",
    "import tensorflow as tf\n",
    "from tensorflow.keras.layers import Conv2D, MaxPooling2D, Flatten, Dense, BatchNormalization, Dropout\n",
    "from tensorflow.keras.models import Sequential\n",
    "from tensorflow.keras.preprocessing.image import ImageDataGenerator"
   ]
  },
  {
   "cell_type": "code",
   "execution_count": 2,
   "id": "different-transsexual",
   "metadata": {},
   "outputs": [],
   "source": [
    "def visualize_random(folder):\n",
    "    plt.figure(figsize=(20,10))\n",
    "    images = os.listdir(folder)\n",
    "    for i in range(10):\n",
    "        img = random.choice([x for x in images])\n",
    "        fig = plt.subplot(5, 5, i + 1)\n",
    "        fig.axis('off')\n",
    "        img = mpimg.imread(os.path.join(folder, img))\n",
    "        fig.imshow(img)"
   ]
  },
  {
   "cell_type": "code",
   "execution_count": 3,
   "id": "abroad-cedar",
   "metadata": {},
   "outputs": [],
   "source": [
    "try:\n",
    "    os.mkdir('total')\n",
    "    for dir in ['training', 'validation']:\n",
    "        path = os.path.join('total', dir)\n",
    "        os.mkdir(path)\n",
    "        for dir in ['cat', 'dog']:\n",
    "            n_path = os.path.join(path, dir)\n",
    "            os.mkdir(n_path)\n",
    "except Exception:\n",
    "    print('Existed!')"
   ]
  },
  {
   "cell_type": "code",
   "execution_count": 4,
   "id": "whole-nigeria",
   "metadata": {},
   "outputs": [],
   "source": [
    "cats = [x for x in os.listdir('train') if 'cat' in x]\n",
    "dogs = [x for x in os.listdir('train') if 'dog' in x]\n",
    "cat_test = random.sample(cats, int(0.2 * len(cats)))\n",
    "dog_test = random.sample(dogs, int(0.2 * len(dogs)))"
   ]
  },
  {
   "cell_type": "code",
   "execution_count": 5,
   "id": "commercial-convergence",
   "metadata": {},
   "outputs": [],
   "source": [
    "for img in os.listdir('train'):\n",
    "    src_img = os.path.join('train', img)\n",
    "    if 'cat' in img:\n",
    "        if img in cat_test:\n",
    "            dst_img = os.path.join('total/validation/cat', img)\n",
    "        else:\n",
    "            dst_img = os.path.join('total/training/cat', img)\n",
    "    elif 'dog' in img:\n",
    "        if img in dog_test:\n",
    "            dst_img = os.path.join('total/validation/dog', img)\n",
    "        else:\n",
    "            dst_img = os.path.join('total/training/dog', img)\n",
    "    copyfile(src_img, dst_img)"
   ]
  },
  {
   "cell_type": "code",
   "execution_count": 6,
   "id": "durable-lingerie",
   "metadata": {},
   "outputs": [
    {
     "name": "stdout",
     "output_type": "stream",
     "text": [
      "Found 20000 images belonging to 2 classes.\n",
      "Found 5000 images belonging to 2 classes.\n"
     ]
    }
   ],
   "source": [
    "gen_train = ImageDataGenerator(rescale=1/255,\n",
    "                               rotation_range=40, \n",
    "                               width_shift_range=0.2,\n",
    "                               height_shift_range=0.2,\n",
    "                               shear_range=0.2,\n",
    "                               zoom_range=0.2,\n",
    "                               horizontal_flip=True, \n",
    "                               fill_mode='nearest')\n",
    "gen_valid = ImageDataGenerator(rescale=1/255)\n",
    "\n",
    "img_train = gen_train.flow_from_directory('total/training', target_size=(150, 150), batch_size=32, class_mode='binary')\n",
    "img_valid = gen_valid.flow_from_directory('total/validation', target_size=(150, 150), batch_size=32, class_mode='binary')"
   ]
  },
  {
   "cell_type": "code",
   "execution_count": 7,
   "id": "progressive-senate",
   "metadata": {},
   "outputs": [
    {
     "name": "stdout",
     "output_type": "stream",
     "text": [
      "WARNING:tensorflow:There are non-GPU devices in `tf.distribute.Strategy`, not using nccl allreduce.\n",
      "INFO:tensorflow:Using MirroredStrategy with devices ('/job:localhost/replica:0/task:0/device:CPU:0',)\n",
      "Model: \"sequential\"\n",
      "_________________________________________________________________\n",
      "Layer (type)                 Output Shape              Param #   \n",
      "=================================================================\n",
      "conv2d (Conv2D)              (None, 148, 148, 32)      896       \n",
      "_________________________________________________________________\n",
      "max_pooling2d (MaxPooling2D) (None, 74, 74, 32)        0         \n",
      "_________________________________________________________________\n",
      "conv2d_1 (Conv2D)            (None, 72, 72, 64)        18496     \n",
      "_________________________________________________________________\n",
      "max_pooling2d_1 (MaxPooling2 (None, 36, 36, 64)        0         \n",
      "_________________________________________________________________\n",
      "conv2d_2 (Conv2D)            (None, 34, 34, 128)       73856     \n",
      "_________________________________________________________________\n",
      "max_pooling2d_2 (MaxPooling2 (None, 17, 17, 128)       0         \n",
      "_________________________________________________________________\n",
      "flatten (Flatten)            (None, 36992)             0         \n",
      "_________________________________________________________________\n",
      "dense (Dense)                (None, 128)               4735104   \n",
      "_________________________________________________________________\n",
      "dense_1 (Dense)              (None, 1)                 129       \n",
      "=================================================================\n",
      "Total params: 4,828,481\n",
      "Trainable params: 4,828,481\n",
      "Non-trainable params: 0\n",
      "_________________________________________________________________\n"
     ]
    }
   ],
   "source": [
    "strategy = tf.distribute.MirroredStrategy()\n",
    "\n",
    "with strategy.scope():\n",
    "    model = Sequential([Conv2D(32, (3,3), activation='relu', input_shape=(150, 150, 3)),\n",
    "                        MaxPooling2D(2, 2),\n",
    "                        Conv2D(64, (3,3), activation='relu'),\n",
    "                        MaxPooling2D(2,2),\n",
    "                        Conv2D(128, (3,3), activation='relu'),\n",
    "                        MaxPooling2D(2,2),\n",
    "                        Flatten(),\n",
    "                        Dense(128, activation='relu'),\n",
    "                        Dense(1, activation='sigmoid')])\n",
    "    model.compile(optimizer='adam', loss='binary_crossentropy', metrics=['accuracy'])\n",
    "            \n",
    "model.summary()"
   ]
  },
  {
   "cell_type": "code",
   "execution_count": 8,
   "id": "excessive-norfolk",
   "metadata": {},
   "outputs": [
    {
     "name": "stdout",
     "output_type": "stream",
     "text": [
      "Epoch 1/20\n",
      "625/625 [==============================] - 580s 923ms/step - loss: 0.7032 - accuracy: 0.5254 - val_loss: 0.6838 - val_accuracy: 0.5560\n",
      "Epoch 2/20\n",
      "625/625 [==============================] - 579s 927ms/step - loss: 0.6559 - accuracy: 0.6166 - val_loss: 0.5586 - val_accuracy: 0.7186\n",
      "Epoch 3/20\n",
      "625/625 [==============================] - 573s 917ms/step - loss: 0.5905 - accuracy: 0.6825 - val_loss: 0.4953 - val_accuracy: 0.7582\n",
      "Epoch 4/20\n",
      "625/625 [==============================] - 572s 915ms/step - loss: 0.5587 - accuracy: 0.7118 - val_loss: 0.4837 - val_accuracy: 0.7688\n",
      "Epoch 5/20\n",
      "625/625 [==============================] - 570s 912ms/step - loss: 0.5368 - accuracy: 0.7258 - val_loss: 0.4679 - val_accuracy: 0.7854\n",
      "Epoch 6/20\n",
      "625/625 [==============================] - 570s 912ms/step - loss: 0.5127 - accuracy: 0.7493 - val_loss: 0.4559 - val_accuracy: 0.7820\n",
      "Epoch 7/20\n",
      "625/625 [==============================] - 578s 924ms/step - loss: 0.4889 - accuracy: 0.7626 - val_loss: 0.4627 - val_accuracy: 0.7732\n",
      "Epoch 8/20\n",
      "625/625 [==============================] - 566s 906ms/step - loss: 0.4673 - accuracy: 0.7712 - val_loss: 0.4239 - val_accuracy: 0.8118\n",
      "Epoch 9/20\n",
      "625/625 [==============================] - 574s 918ms/step - loss: 0.4528 - accuracy: 0.7885 - val_loss: 0.4143 - val_accuracy: 0.8106\n",
      "Epoch 10/20\n",
      "625/625 [==============================] - 573s 917ms/step - loss: 0.4395 - accuracy: 0.7978 - val_loss: 0.3747 - val_accuracy: 0.8396\n",
      "Epoch 11/20\n",
      "625/625 [==============================] - 572s 915ms/step - loss: 0.4174 - accuracy: 0.8096 - val_loss: 0.3659 - val_accuracy: 0.8444\n",
      "Epoch 12/20\n",
      "625/625 [==============================] - 569s 909ms/step - loss: 0.4177 - accuracy: 0.8051 - val_loss: 0.3910 - val_accuracy: 0.8200\n",
      "Epoch 13/20\n",
      "625/625 [==============================] - 574s 917ms/step - loss: 0.4036 - accuracy: 0.8151 - val_loss: 0.3343 - val_accuracy: 0.8550\n",
      "Epoch 14/20\n",
      "625/625 [==============================] - 580s 927ms/step - loss: 0.3990 - accuracy: 0.8185 - val_loss: 0.3598 - val_accuracy: 0.8408\n",
      "Epoch 15/20\n",
      "625/625 [==============================] - 572s 914ms/step - loss: 0.3716 - accuracy: 0.8359 - val_loss: 0.3548 - val_accuracy: 0.8408\n",
      "Epoch 16/20\n",
      "625/625 [==============================] - 570s 911ms/step - loss: 0.3767 - accuracy: 0.8321 - val_loss: 0.3262 - val_accuracy: 0.8612\n",
      "Epoch 17/20\n",
      "625/625 [==============================] - 571s 913ms/step - loss: 0.3623 - accuracy: 0.8400 - val_loss: 0.3753 - val_accuracy: 0.8350\n",
      "Epoch 18/20\n",
      "625/625 [==============================] - 574s 918ms/step - loss: 0.3646 - accuracy: 0.8406 - val_loss: 0.3188 - val_accuracy: 0.8646\n",
      "Epoch 19/20\n",
      "625/625 [==============================] - 573s 917ms/step - loss: 0.3438 - accuracy: 0.8472 - val_loss: 0.2874 - val_accuracy: 0.8760\n",
      "Epoch 20/20\n",
      "625/625 [==============================] - 577s 923ms/step - loss: 0.3374 - accuracy: 0.8550 - val_loss: 0.3025 - val_accuracy: 0.8718\n"
     ]
    }
   ],
   "source": [
    "history = model.fit(img_train, \n",
    "                    epochs=20,\n",
    "                    validation_data=img_valid)"
   ]
  },
  {
   "cell_type": "code",
   "execution_count": 9,
   "id": "green-visibility",
   "metadata": {},
   "outputs": [
    {
     "data": {
      "text/html": [
       "<div>\n",
       "<style scoped>\n",
       "    .dataframe tbody tr th:only-of-type {\n",
       "        vertical-align: middle;\n",
       "    }\n",
       "\n",
       "    .dataframe tbody tr th {\n",
       "        vertical-align: top;\n",
       "    }\n",
       "\n",
       "    .dataframe thead th {\n",
       "        text-align: right;\n",
       "    }\n",
       "</style>\n",
       "<table border=\"1\" class=\"dataframe\">\n",
       "  <thead>\n",
       "    <tr style=\"text-align: right;\">\n",
       "      <th></th>\n",
       "      <th>loss</th>\n",
       "      <th>accuracy</th>\n",
       "      <th>val_loss</th>\n",
       "      <th>val_accuracy</th>\n",
       "    </tr>\n",
       "  </thead>\n",
       "  <tbody>\n",
       "    <tr>\n",
       "      <th>0</th>\n",
       "      <td>0.687215</td>\n",
       "      <td>0.55320</td>\n",
       "      <td>0.683762</td>\n",
       "      <td>0.5560</td>\n",
       "    </tr>\n",
       "    <tr>\n",
       "      <th>1</th>\n",
       "      <td>0.641075</td>\n",
       "      <td>0.63730</td>\n",
       "      <td>0.558613</td>\n",
       "      <td>0.7186</td>\n",
       "    </tr>\n",
       "    <tr>\n",
       "      <th>2</th>\n",
       "      <td>0.580951</td>\n",
       "      <td>0.69605</td>\n",
       "      <td>0.495319</td>\n",
       "      <td>0.7582</td>\n",
       "    </tr>\n",
       "    <tr>\n",
       "      <th>3</th>\n",
       "      <td>0.548195</td>\n",
       "      <td>0.71750</td>\n",
       "      <td>0.483681</td>\n",
       "      <td>0.7688</td>\n",
       "    </tr>\n",
       "    <tr>\n",
       "      <th>4</th>\n",
       "      <td>0.533156</td>\n",
       "      <td>0.72925</td>\n",
       "      <td>0.467870</td>\n",
       "      <td>0.7854</td>\n",
       "    </tr>\n",
       "    <tr>\n",
       "      <th>5</th>\n",
       "      <td>0.505974</td>\n",
       "      <td>0.75235</td>\n",
       "      <td>0.455888</td>\n",
       "      <td>0.7820</td>\n",
       "    </tr>\n",
       "    <tr>\n",
       "      <th>6</th>\n",
       "      <td>0.488756</td>\n",
       "      <td>0.76280</td>\n",
       "      <td>0.462720</td>\n",
       "      <td>0.7732</td>\n",
       "    </tr>\n",
       "    <tr>\n",
       "      <th>7</th>\n",
       "      <td>0.467196</td>\n",
       "      <td>0.77590</td>\n",
       "      <td>0.423936</td>\n",
       "      <td>0.8118</td>\n",
       "    </tr>\n",
       "    <tr>\n",
       "      <th>8</th>\n",
       "      <td>0.452885</td>\n",
       "      <td>0.78790</td>\n",
       "      <td>0.414349</td>\n",
       "      <td>0.8106</td>\n",
       "    </tr>\n",
       "    <tr>\n",
       "      <th>9</th>\n",
       "      <td>0.440796</td>\n",
       "      <td>0.79635</td>\n",
       "      <td>0.374689</td>\n",
       "      <td>0.8396</td>\n",
       "    </tr>\n",
       "    <tr>\n",
       "      <th>10</th>\n",
       "      <td>0.421918</td>\n",
       "      <td>0.80605</td>\n",
       "      <td>0.365877</td>\n",
       "      <td>0.8444</td>\n",
       "    </tr>\n",
       "    <tr>\n",
       "      <th>11</th>\n",
       "      <td>0.417161</td>\n",
       "      <td>0.80655</td>\n",
       "      <td>0.391023</td>\n",
       "      <td>0.8200</td>\n",
       "    </tr>\n",
       "    <tr>\n",
       "      <th>12</th>\n",
       "      <td>0.401041</td>\n",
       "      <td>0.81535</td>\n",
       "      <td>0.334289</td>\n",
       "      <td>0.8550</td>\n",
       "    </tr>\n",
       "    <tr>\n",
       "      <th>13</th>\n",
       "      <td>0.392826</td>\n",
       "      <td>0.82380</td>\n",
       "      <td>0.359820</td>\n",
       "      <td>0.8408</td>\n",
       "    </tr>\n",
       "    <tr>\n",
       "      <th>14</th>\n",
       "      <td>0.383304</td>\n",
       "      <td>0.82905</td>\n",
       "      <td>0.354848</td>\n",
       "      <td>0.8408</td>\n",
       "    </tr>\n",
       "    <tr>\n",
       "      <th>15</th>\n",
       "      <td>0.369803</td>\n",
       "      <td>0.83550</td>\n",
       "      <td>0.326232</td>\n",
       "      <td>0.8612</td>\n",
       "    </tr>\n",
       "    <tr>\n",
       "      <th>16</th>\n",
       "      <td>0.361732</td>\n",
       "      <td>0.83860</td>\n",
       "      <td>0.375309</td>\n",
       "      <td>0.8350</td>\n",
       "    </tr>\n",
       "    <tr>\n",
       "      <th>17</th>\n",
       "      <td>0.358549</td>\n",
       "      <td>0.84150</td>\n",
       "      <td>0.318841</td>\n",
       "      <td>0.8646</td>\n",
       "    </tr>\n",
       "    <tr>\n",
       "      <th>18</th>\n",
       "      <td>0.344830</td>\n",
       "      <td>0.84770</td>\n",
       "      <td>0.287414</td>\n",
       "      <td>0.8760</td>\n",
       "    </tr>\n",
       "    <tr>\n",
       "      <th>19</th>\n",
       "      <td>0.335120</td>\n",
       "      <td>0.85725</td>\n",
       "      <td>0.302549</td>\n",
       "      <td>0.8718</td>\n",
       "    </tr>\n",
       "  </tbody>\n",
       "</table>\n",
       "</div>"
      ],
      "text/plain": [
       "        loss  accuracy  val_loss  val_accuracy\n",
       "0   0.687215   0.55320  0.683762        0.5560\n",
       "1   0.641075   0.63730  0.558613        0.7186\n",
       "2   0.580951   0.69605  0.495319        0.7582\n",
       "3   0.548195   0.71750  0.483681        0.7688\n",
       "4   0.533156   0.72925  0.467870        0.7854\n",
       "5   0.505974   0.75235  0.455888        0.7820\n",
       "6   0.488756   0.76280  0.462720        0.7732\n",
       "7   0.467196   0.77590  0.423936        0.8118\n",
       "8   0.452885   0.78790  0.414349        0.8106\n",
       "9   0.440796   0.79635  0.374689        0.8396\n",
       "10  0.421918   0.80605  0.365877        0.8444\n",
       "11  0.417161   0.80655  0.391023        0.8200\n",
       "12  0.401041   0.81535  0.334289        0.8550\n",
       "13  0.392826   0.82380  0.359820        0.8408\n",
       "14  0.383304   0.82905  0.354848        0.8408\n",
       "15  0.369803   0.83550  0.326232        0.8612\n",
       "16  0.361732   0.83860  0.375309        0.8350\n",
       "17  0.358549   0.84150  0.318841        0.8646\n",
       "18  0.344830   0.84770  0.287414        0.8760\n",
       "19  0.335120   0.85725  0.302549        0.8718"
      ]
     },
     "execution_count": 9,
     "metadata": {},
     "output_type": "execute_result"
    }
   ],
   "source": [
    "df_hist = pd.DataFrame(history.history)\n",
    "df_hist"
   ]
  },
  {
   "cell_type": "code",
   "execution_count": 16,
   "id": "mobile-unemployment",
   "metadata": {},
   "outputs": [],
   "source": [
    "model.save_weights('weight_model.h5')"
   ]
  },
  {
   "cell_type": "code",
   "execution_count": 17,
   "id": "nonprofit-thomson",
   "metadata": {},
   "outputs": [
    {
     "name": "stdout",
     "output_type": "stream",
     "text": [
      "INFO:tensorflow:Assets written to: Model\\assets\n"
     ]
    }
   ],
   "source": [
    "model.save('Model')"
   ]
  },
  {
   "cell_type": "code",
   "execution_count": 21,
   "id": "finite-raise",
   "metadata": {},
   "outputs": [
    {
     "data": {
      "text/plain": [
       "[]"
      ]
     },
     "execution_count": 21,
     "metadata": {},
     "output_type": "execute_result"
    }
   ],
   "source": [
    "node_names = [node.name for node in tf.compat.v1.get_default_graph().as_graph_def().node]\n",
    "node_names"
   ]
  },
  {
   "cell_type": "code",
   "execution_count": 12,
   "id": "determined-warner",
   "metadata": {},
   "outputs": [],
   "source": [
    "from tensorflow.python.tools import freeze_graph\n",
    "from tensorflow.python.saved_model import tag_constants"
   ]
  },
  {
   "cell_type": "code",
   "execution_count": 20,
   "id": "indirect-library",
   "metadata": {},
   "outputs": [
    {
     "ename": "ValueError",
     "evalue": "You need to supply the name of a node to --output_node_names.",
     "output_type": "error",
     "traceback": [
      "\u001b[1;31m---------------------------------------------------------------------------\u001b[0m",
      "\u001b[1;31mValueError\u001b[0m                                Traceback (most recent call last)",
      "\u001b[1;32m<ipython-input-20-a5066decaa0f>\u001b[0m in \u001b[0;36m<module>\u001b[1;34m\u001b[0m\n\u001b[1;32m----> 1\u001b[1;33m freeze_graph.freeze_graph(\n\u001b[0m\u001b[0;32m      2\u001b[0m     \u001b[0minput_graph\u001b[0m\u001b[1;33m=\u001b[0m\u001b[1;32mNone\u001b[0m\u001b[1;33m,\u001b[0m\u001b[1;33m\u001b[0m\u001b[1;33m\u001b[0m\u001b[0m\n\u001b[0;32m      3\u001b[0m     \u001b[0minput_saver\u001b[0m\u001b[1;33m=\u001b[0m\u001b[1;32mNone\u001b[0m\u001b[1;33m,\u001b[0m\u001b[1;33m\u001b[0m\u001b[1;33m\u001b[0m\u001b[0m\n\u001b[0;32m      4\u001b[0m     \u001b[0minput_binary\u001b[0m\u001b[1;33m=\u001b[0m\u001b[1;32mNone\u001b[0m\u001b[1;33m,\u001b[0m\u001b[1;33m\u001b[0m\u001b[1;33m\u001b[0m\u001b[0m\n\u001b[0;32m      5\u001b[0m     \u001b[0minput_checkpoint\u001b[0m\u001b[1;33m=\u001b[0m\u001b[1;32mNone\u001b[0m\u001b[1;33m,\u001b[0m\u001b[1;33m\u001b[0m\u001b[1;33m\u001b[0m\u001b[0m\n",
      "\u001b[1;32mc:\\users\\admin\\appdata\\local\\programs\\python\\python38\\lib\\site-packages\\tensorflow\\python\\tools\\freeze_graph.py\u001b[0m in \u001b[0;36mfreeze_graph\u001b[1;34m(input_graph, input_saver, input_binary, input_checkpoint, output_node_names, restore_op_name, filename_tensor_name, output_graph, clear_devices, initializer_nodes, variable_names_whitelist, variable_names_denylist, input_meta_graph, input_saved_model_dir, saved_model_tags, checkpoint_version)\u001b[0m\n\u001b[0;32m    344\u001b[0m   \u001b[1;32mif\u001b[0m \u001b[0minput_saver\u001b[0m\u001b[1;33m:\u001b[0m\u001b[1;33m\u001b[0m\u001b[1;33m\u001b[0m\u001b[0m\n\u001b[0;32m    345\u001b[0m     \u001b[0minput_saver_def\u001b[0m \u001b[1;33m=\u001b[0m \u001b[0m_parse_input_saver_proto\u001b[0m\u001b[1;33m(\u001b[0m\u001b[0minput_saver\u001b[0m\u001b[1;33m,\u001b[0m \u001b[0minput_binary\u001b[0m\u001b[1;33m)\u001b[0m\u001b[1;33m\u001b[0m\u001b[1;33m\u001b[0m\u001b[0m\n\u001b[1;32m--> 346\u001b[1;33m   return freeze_graph_with_def_protos(\n\u001b[0m\u001b[0;32m    347\u001b[0m       \u001b[0minput_graph_def\u001b[0m\u001b[1;33m,\u001b[0m\u001b[1;33m\u001b[0m\u001b[1;33m\u001b[0m\u001b[0m\n\u001b[0;32m    348\u001b[0m       \u001b[0minput_saver_def\u001b[0m\u001b[1;33m,\u001b[0m\u001b[1;33m\u001b[0m\u001b[1;33m\u001b[0m\u001b[0m\n",
      "\u001b[1;32mc:\\users\\admin\\appdata\\local\\programs\\python\\python38\\lib\\site-packages\\tensorflow\\python\\tools\\freeze_graph.py\u001b[0m in \u001b[0;36mfreeze_graph_with_def_protos\u001b[1;34m(***failed resolving arguments***)\u001b[0m\n\u001b[0;32m    130\u001b[0m \u001b[1;33m\u001b[0m\u001b[0m\n\u001b[0;32m    131\u001b[0m   \u001b[1;32mif\u001b[0m \u001b[1;32mnot\u001b[0m \u001b[0moutput_node_names\u001b[0m\u001b[1;33m:\u001b[0m\u001b[1;33m\u001b[0m\u001b[1;33m\u001b[0m\u001b[0m\n\u001b[1;32m--> 132\u001b[1;33m     raise ValueError(\n\u001b[0m\u001b[0;32m    133\u001b[0m         \"You need to supply the name of a node to --output_node_names.\")\n\u001b[0;32m    134\u001b[0m \u001b[1;33m\u001b[0m\u001b[0m\n",
      "\u001b[1;31mValueError\u001b[0m: You need to supply the name of a node to --output_node_names."
     ]
    }
   ],
   "source": [
    "freeze_graph.freeze_graph(\n",
    "    input_graph=None,\n",
    "    input_saver=None,\n",
    "    input_binary=None,\n",
    "    input_checkpoint=None,\n",
    "    output_node_names='',\n",
    "    restore_op_name=None,\n",
    "    filename_tensor_name=None,\n",
    "    output_graph= \"frozen_graph.pb\",\n",
    "    clear_devices=None,\n",
    "    initializer_nodes=None,\n",
    "    input_saved_model_dir='Model',\n",
    "    saved_model_tags=tag_constants.SERVING\n",
    ")"
   ]
  }
 ],
 "metadata": {
  "kernelspec": {
   "display_name": "Python 3",
   "language": "python",
   "name": "python3"
  },
  "language_info": {
   "codemirror_mode": {
    "name": "ipython",
    "version": 3
   },
   "file_extension": ".py",
   "mimetype": "text/x-python",
   "name": "python",
   "nbconvert_exporter": "python",
   "pygments_lexer": "ipython3",
   "version": "3.8.7"
  }
 },
 "nbformat": 4,
 "nbformat_minor": 5
}
